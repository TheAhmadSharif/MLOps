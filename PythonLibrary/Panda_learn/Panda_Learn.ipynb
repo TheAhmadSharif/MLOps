{
 "cells": [
  {
   "cell_type": "markdown",
   "id": "35621b13",
   "metadata": {},
   "source": [
    "# Learn Pandas\n",
    "Date: 29 October 2022"
   ]
  },
  {
   "cell_type": "code",
   "execution_count": 1,
   "id": "a49aec43",
   "metadata": {},
   "outputs": [
    {
     "name": "stdout",
     "output_type": "stream",
     "text": [
      "1.4.2\n"
     ]
    }
   ],
   "source": [
    "import pandas as pd\n",
    "import numpy as np\n",
    "import matplotlib.pyplot as plt\n",
    "print(pd.__version__)"
   ]
  },
  {
   "cell_type": "code",
   "execution_count": 2,
   "id": "6c2c7500",
   "metadata": {},
   "outputs": [
    {
     "name": "stdout",
     "output_type": "stream",
     "text": [
      "            Name  Age  Marks\n",
      "0    Sumit Tyagi   22     90\n",
      "1       Sukritin   20     84\n",
      "2    Akriti Goel   45     33\n",
      "3      Sanskriti   21     87\n",
      "4  Abhishek Jain   22     82\n"
     ]
    }
   ],
   "source": [
    "data_dict = {'Name' : ['Sumit Tyagi', 'Sukritin',\n",
    "                  'Akriti Goel', 'Sanskriti',\n",
    "                  'Abhishek Jain'],\n",
    "        'Age':[22, 20, 45, 21, 22],\n",
    "        'Marks':[90, 84, 33, 87, 82]}\n",
    "data = pd.DataFrame(data_dict)\n",
    "print(data)"
   ]
  },
  {
   "cell_type": "code",
   "execution_count": 3,
   "id": "e45b97c1",
   "metadata": {},
   "outputs": [
    {
     "name": "stdout",
     "output_type": "stream",
     "text": [
      "        Movie  Rating\n",
      "0     Titanic       5\n",
      "1  Black Gold       4\n",
      "2     Titanic       2\n",
      "3     Titanic       4\n",
      "4  Black Gold       5\n",
      "\n",
      "\n",
      "            Rating\n",
      "Movie             \n",
      "Black Gold       2\n",
      "Titanic          3\n",
      "\n",
      "\n",
      "            count  sum      mean\n",
      "Movie                           \n",
      "Black Gold      2    9  4.500000\n",
      "Titanic         3   11  3.666667\n"
     ]
    }
   ],
   "source": [
    "learn_group = pd.DataFrame(\n",
    "    {'Movie': [\"Titanic\", \"Black Gold\", \"Titanic\", \"Titanic\", \"Black Gold\"],\n",
    " 'Rating': [5, 4, 2, 4, 5]\n",
    "    })\n",
    "\n",
    "print(learn_group)\n",
    "print()\n",
    "print()\n",
    "group_count = pd.DataFrame(learn_group.groupby([\"Movie\"])[\"Rating\"].count())\n",
    "print(group_count)\n",
    "print()\n",
    "print()\n",
    "group_agg = pd.DataFrame(learn_group.groupby([\"Movie\"])[\"Rating\"].agg(['count','sum', 'mean']))\n",
    "print(group_agg)"
   ]
  },
  {
   "cell_type": "code",
   "execution_count": 4,
   "id": "820bd862",
   "metadata": {},
   "outputs": [
    {
     "name": "stdout",
     "output_type": "stream",
     "text": [
      "          count        sum      mean\n",
      "count  2.000000   2.000000  2.000000\n",
      "mean   2.500000  10.000000  4.083333\n",
      "std    0.707107   1.414214  0.589256\n",
      "min    2.000000   9.000000  3.666667\n",
      "25%    2.250000   9.500000  3.875000\n",
      "50%    2.500000  10.000000  4.083333\n",
      "75%    2.750000  10.500000  4.291667\n",
      "max    3.000000  11.000000  4.500000\n"
     ]
    }
   ],
   "source": [
    "n = 3\n",
    "first_n_column = data.iloc[:, :3]\n",
    "print(group_agg.describe())"
   ]
  },
  {
   "cell_type": "code",
   "execution_count": 5,
   "id": "c84be3b3",
   "metadata": {},
   "outputs": [
    {
     "ename": "NameError",
     "evalue": "name 'd' is not defined",
     "output_type": "error",
     "traceback": [
      "\u001b[0;31m---------------------------------------------------------------------------\u001b[0m",
      "\u001b[0;31mNameError\u001b[0m                                 Traceback (most recent call last)",
      "Input \u001b[0;32mIn [5]\u001b[0m, in \u001b[0;36m<cell line: 1>\u001b[0;34m()\u001b[0m\n\u001b[0;32m----> 1\u001b[0m \u001b[43md\u001b[49m\u001b[38;5;241m.\u001b[39mAge\u001b[38;5;241m.\u001b[39mvalues\u001b[38;5;241m.\u001b[39mtolist()\n",
      "\u001b[0;31mNameError\u001b[0m: name 'd' is not defined"
     ]
    }
   ],
   "source": [
    "d.Age.values.tolist()"
   ]
  },
  {
   "cell_type": "code",
   "execution_count": null,
   "id": "45c2d898",
   "metadata": {},
   "outputs": [],
   "source": [
    "# Data Type\n",
    "dataset = {\n",
    "    \"cars\": [\"Toyota\", \"BMW\"],\n",
    "    \"engine\": 2\n",
    "}\n",
    "var_data = pd.DataFrame(dataset)\n",
    "\n",
    "print(var_data)\n",
    "var_data.describe()"
   ]
  },
  {
   "cell_type": "code",
   "execution_count": null,
   "id": "00653238",
   "metadata": {},
   "outputs": [],
   "source": [
    "dats_series = [1,2,4]\n",
    "pd.Series(dats_series)"
   ]
  },
  {
   "cell_type": "code",
   "execution_count": null,
   "id": "ab2b15a8",
   "metadata": {},
   "outputs": [],
   "source": [
    "pd.options.display.max_rows = 9999\n",
    "\n",
    "df = pd.read_csv('addresses.csv')\n",
    "\n",
    "df.head()\n",
    "df.info()\n",
    "df.describe()"
   ]
  },
  {
   "cell_type": "code",
   "execution_count": null,
   "id": "b408da70",
   "metadata": {},
   "outputs": [],
   "source": [
    "df = pd.DataFrame(np.random.randn(10,6))\n",
    "df\n"
   ]
  },
  {
   "cell_type": "code",
   "execution_count": null,
   "id": "8c91843b",
   "metadata": {},
   "outputs": [],
   "source": [
    "data = {\n",
    "  \"calories\": [20, 20, 390],\n",
    "  \"duration\": [20, 10, 45]\n",
    "}\n",
    "df = pd.DataFrame(data)\n",
    "df\n",
    "print(df)\n",
    "df.drop_duplicates(inplace = True)\n",
    "print(\"____________________________________________\")\n",
    "print(\"______________Remove Duplicate______________\")\n",
    "print(\"____________________________________________\")\n",
    "print(df)\n",
    "\n"
   ]
  },
  {
   "cell_type": "markdown",
   "id": "1c72fa49",
   "metadata": {},
   "source": [
    "# Plot"
   ]
  },
  {
   "cell_type": "code",
   "execution_count": null,
   "id": "5bd2125d",
   "metadata": {},
   "outputs": [],
   "source": [
    "df = pd.read_csv('data.csv')\n",
    "df.plot()\n",
    "plt.show()\n",
    "\n",
    "df.plot(kind = 'scatter', x = 'Duration', y = 'Calories')\n"
   ]
  },
  {
   "cell_type": "markdown",
   "id": "81782069",
   "metadata": {},
   "source": [
    "## Correlation Coefficient"
   ]
  },
  {
   "cell_type": "code",
   "execution_count": null,
   "id": "07b970f2",
   "metadata": {},
   "outputs": [],
   "source": [
    "data_score = pd.read_csv(\"exam_scores.csv\")\n",
    "data_score.head()"
   ]
  },
  {
   "cell_type": "code",
   "execution_count": null,
   "id": "3093e830",
   "metadata": {},
   "outputs": [],
   "source": [
    "data_score.describe()\n",
    "data_score.corr()\n",
    "correlation = data_score.corr()\n",
    "print(correlation.loc['History', 'English'])"
   ]
  },
  {
   "cell_type": "markdown",
   "id": "abfdbaa1",
   "metadata": {},
   "source": [
    " Show Selected Column"
   ]
  },
  {
   "cell_type": "code",
   "execution_count": null,
   "id": "c48515f1",
   "metadata": {},
   "outputs": [],
   "source": [
    "columns = pd.DataFrame(np.array([[3, 2, 4], [4, 5, 2], [2, 1, 6]]),\n",
    "                   columns=['UserID', 'placeID', 'Rating'])\n",
    "\n",
    "s_column = selected_column[['UserID', 'placeID']]\n",
    "print(s_column)"
   ]
  },
  {
   "cell_type": "code",
   "execution_count": null,
   "id": "9fa1109d",
   "metadata": {},
   "outputs": [],
   "source": [
    "# Merge Table\n",
    "\n",
    "product_data = {\n",
    "    'product_id' : [1,2,3],\n",
    "    'product_name': ['Laptop', 'printer', 'tablet']\n",
    "}\n",
    "\n",
    "price_table = {'product_id': [1,2,3],\n",
    "        'price': [1200, 150, 'NaN']\n",
    "        }\n",
    "price_table_df = pd.DataFrame(price_table)\n",
    "product_data_df = pd.DataFrame(product_data)\n",
    "\n",
    "\n",
    "pivot_table = pd.merge(product_data_df, price_table_df, on=\"product_id\")\n",
    "pivot_table"
   ]
  },
  {
   "cell_type": "code",
   "execution_count": null,
   "id": "d5a72707",
   "metadata": {},
   "outputs": [],
   "source": [
    "# Pivot Table\n",
    "\n",
    "df = pd.DataFrame({'Student Names' : ['Jenny', 'Singh', 'Charles', 'Richard', 'Veena'],\n",
    "                   'Category' : ['Online', 'Offline', 'Offline', 'Offline', 'Online'],\n",
    "                   'Gender' : ['Female', 'Male', 'Male', 'Male', 'Female'],\n",
    "                  'Courses': ['Java', 'Spark', 'PySpark','Hadoop','C'],\n",
    "                   'Fee': [15000, 17000, 27000, 29000, 12000],\n",
    "                   'Discount': [1100, 800, 1000, 1600, 600]})\n",
    "\n",
    "print('____________________')\n",
    "p_table = pd.pivot_table(df, index=['Gender'], fill_value = 0, aggfunc = ['sum', 'mean']) \n",
    "print(p_table)"
   ]
  },
  {
   "cell_type": "code",
   "execution_count": null,
   "id": "7b2fb81f",
   "metadata": {},
   "outputs": [],
   "source": [
    "# Learn ML Modeling\n",
    "\n",
    "from sklearn.model_selection import train_test_split\n",
    "X, y = np.arange(10).reshape((5, 2)), range(5)\n",
    "X\n",
    "print(X)\n",
    "print(y)\n",
    "print(list(y))\n",
    "print()\n",
    "print()\n",
    "\n",
    "X_train, X_test, y_train, y_test = train_test_split(X, y, test_size=0.33, random_state=42)\n",
    "print(X_train)\n",
    "print('___________')\n",
    "print(X_test)\n",
    "print('___________ y_train')\n",
    "print(y_train)\n",
    "print('___________ y_test')\n",
    "print(y_test)"
   ]
  },
  {
   "cell_type": "code",
   "execution_count": null,
   "id": "934b7224",
   "metadata": {},
   "outputs": [],
   "source": [
    "# https://www.learndatasci.com/tutorials/python-pandas-tutorial-complete-introduction-for-beginners/\n",
    "# Date: 09 December 2022    \n",
    "    "
   ]
  },
  {
   "cell_type": "code",
   "execution_count": 21,
   "id": "4ebf41b8",
   "metadata": {},
   "outputs": [
    {
     "data": {
      "text/html": [
       "<div>\n",
       "<style scoped>\n",
       "    .dataframe tbody tr th:only-of-type {\n",
       "        vertical-align: middle;\n",
       "    }\n",
       "\n",
       "    .dataframe tbody tr th {\n",
       "        vertical-align: top;\n",
       "    }\n",
       "\n",
       "    .dataframe thead th {\n",
       "        text-align: right;\n",
       "    }\n",
       "</style>\n",
       "<table border=\"1\" class=\"dataframe\">\n",
       "  <thead>\n",
       "    <tr style=\"text-align: right;\">\n",
       "      <th></th>\n",
       "      <th>apples</th>\n",
       "      <th>oranges</th>\n",
       "    </tr>\n",
       "  </thead>\n",
       "  <tbody>\n",
       "    <tr>\n",
       "      <th>0</th>\n",
       "      <td>3</td>\n",
       "      <td>0</td>\n",
       "    </tr>\n",
       "    <tr>\n",
       "      <th>1</th>\n",
       "      <td>2</td>\n",
       "      <td>3</td>\n",
       "    </tr>\n",
       "    <tr>\n",
       "      <th>2</th>\n",
       "      <td>0</td>\n",
       "      <td>7</td>\n",
       "    </tr>\n",
       "    <tr>\n",
       "      <th>3</th>\n",
       "      <td>1</td>\n",
       "      <td>2</td>\n",
       "    </tr>\n",
       "  </tbody>\n",
       "</table>\n",
       "</div>"
      ],
      "text/plain": [
       "   apples  oranges\n",
       "0       3        0\n",
       "1       2        3\n",
       "2       0        7\n",
       "3       1        2"
      ]
     },
     "execution_count": 21,
     "metadata": {},
     "output_type": "execute_result"
    }
   ],
   "source": [
    "data = {\n",
    "    'apples': [3, 2, 0, 1], \n",
    "    'oranges': [0, 3, 7, 2],\n",
    "    'oranges': [0, 3, 7, 2]\n",
    "}\n",
    "purchases = pd.DataFrame(data)\n",
    "purchases"
   ]
  },
  {
   "cell_type": "code",
   "execution_count": 23,
   "id": "5be36150",
   "metadata": {},
   "outputs": [
    {
     "name": "stderr",
     "output_type": "stream",
     "text": [
      "/tmp/ipykernel_1243338/869578487.py:1: FutureWarning: The frame.append method is deprecated and will be removed from pandas in a future version. Use pandas.concat instead.\n",
      "  temp_df = purchases.append(purchases)\n"
     ]
    },
    {
     "data": {
      "text/html": [
       "<div>\n",
       "<style scoped>\n",
       "    .dataframe tbody tr th:only-of-type {\n",
       "        vertical-align: middle;\n",
       "    }\n",
       "\n",
       "    .dataframe tbody tr th {\n",
       "        vertical-align: top;\n",
       "    }\n",
       "\n",
       "    .dataframe thead th {\n",
       "        text-align: right;\n",
       "    }\n",
       "</style>\n",
       "<table border=\"1\" class=\"dataframe\">\n",
       "  <thead>\n",
       "    <tr style=\"text-align: right;\">\n",
       "      <th></th>\n",
       "      <th>apples</th>\n",
       "      <th>oranges</th>\n",
       "    </tr>\n",
       "  </thead>\n",
       "  <tbody>\n",
       "    <tr>\n",
       "      <th>0</th>\n",
       "      <td>3</td>\n",
       "      <td>0</td>\n",
       "    </tr>\n",
       "    <tr>\n",
       "      <th>1</th>\n",
       "      <td>2</td>\n",
       "      <td>3</td>\n",
       "    </tr>\n",
       "    <tr>\n",
       "      <th>2</th>\n",
       "      <td>0</td>\n",
       "      <td>7</td>\n",
       "    </tr>\n",
       "    <tr>\n",
       "      <th>3</th>\n",
       "      <td>1</td>\n",
       "      <td>2</td>\n",
       "    </tr>\n",
       "    <tr>\n",
       "      <th>0</th>\n",
       "      <td>3</td>\n",
       "      <td>0</td>\n",
       "    </tr>\n",
       "    <tr>\n",
       "      <th>1</th>\n",
       "      <td>2</td>\n",
       "      <td>3</td>\n",
       "    </tr>\n",
       "    <tr>\n",
       "      <th>2</th>\n",
       "      <td>0</td>\n",
       "      <td>7</td>\n",
       "    </tr>\n",
       "    <tr>\n",
       "      <th>3</th>\n",
       "      <td>1</td>\n",
       "      <td>2</td>\n",
       "    </tr>\n",
       "  </tbody>\n",
       "</table>\n",
       "</div>"
      ],
      "text/plain": [
       "   apples  oranges\n",
       "0       3        0\n",
       "1       2        3\n",
       "2       0        7\n",
       "3       1        2\n",
       "0       3        0\n",
       "1       2        3\n",
       "2       0        7\n",
       "3       1        2"
      ]
     },
     "execution_count": 23,
     "metadata": {},
     "output_type": "execute_result"
    }
   ],
   "source": [
    "temp_df = purchases.append(purchases)\n",
    "temp_df"
   ]
  },
  {
   "cell_type": "code",
   "execution_count": 26,
   "id": "1be45cf3",
   "metadata": {},
   "outputs": [
    {
     "data": {
      "text/html": [
       "<div>\n",
       "<style scoped>\n",
       "    .dataframe tbody tr th:only-of-type {\n",
       "        vertical-align: middle;\n",
       "    }\n",
       "\n",
       "    .dataframe tbody tr th {\n",
       "        vertical-align: top;\n",
       "    }\n",
       "\n",
       "    .dataframe thead th {\n",
       "        text-align: right;\n",
       "    }\n",
       "</style>\n",
       "<table border=\"1\" class=\"dataframe\">\n",
       "  <thead>\n",
       "    <tr style=\"text-align: right;\">\n",
       "      <th></th>\n",
       "      <th>apples</th>\n",
       "      <th>oranges</th>\n",
       "    </tr>\n",
       "  </thead>\n",
       "  <tbody>\n",
       "    <tr>\n",
       "      <th>0</th>\n",
       "      <td>3</td>\n",
       "      <td>0</td>\n",
       "    </tr>\n",
       "    <tr>\n",
       "      <th>1</th>\n",
       "      <td>2</td>\n",
       "      <td>3</td>\n",
       "    </tr>\n",
       "    <tr>\n",
       "      <th>2</th>\n",
       "      <td>0</td>\n",
       "      <td>7</td>\n",
       "    </tr>\n",
       "    <tr>\n",
       "      <th>3</th>\n",
       "      <td>1</td>\n",
       "      <td>2</td>\n",
       "    </tr>\n",
       "  </tbody>\n",
       "</table>\n",
       "</div>"
      ],
      "text/plain": [
       "   apples  oranges\n",
       "0       3        0\n",
       "1       2        3\n",
       "2       0        7\n",
       "3       1        2"
      ]
     },
     "execution_count": 26,
     "metadata": {},
     "output_type": "execute_result"
    }
   ],
   "source": [
    "temp_df = temp_df.drop_duplicates()\n",
    "temp_df"
   ]
  },
  {
   "cell_type": "code",
   "execution_count": 13,
   "id": "2b57a3df",
   "metadata": {},
   "outputs": [
    {
     "data": {
      "text/html": [
       "<div>\n",
       "<style scoped>\n",
       "    .dataframe tbody tr th:only-of-type {\n",
       "        vertical-align: middle;\n",
       "    }\n",
       "\n",
       "    .dataframe tbody tr th {\n",
       "        vertical-align: top;\n",
       "    }\n",
       "\n",
       "    .dataframe thead th {\n",
       "        text-align: right;\n",
       "    }\n",
       "</style>\n",
       "<table border=\"1\" class=\"dataframe\">\n",
       "  <thead>\n",
       "    <tr style=\"text-align: right;\">\n",
       "      <th></th>\n",
       "      <th>apples</th>\n",
       "      <th>oranges</th>\n",
       "    </tr>\n",
       "  </thead>\n",
       "  <tbody>\n",
       "    <tr>\n",
       "      <th>June</th>\n",
       "      <td>3</td>\n",
       "      <td>0</td>\n",
       "    </tr>\n",
       "    <tr>\n",
       "      <th>Robert</th>\n",
       "      <td>2</td>\n",
       "      <td>3</td>\n",
       "    </tr>\n",
       "    <tr>\n",
       "      <th>Lily</th>\n",
       "      <td>0</td>\n",
       "      <td>7</td>\n",
       "    </tr>\n",
       "    <tr>\n",
       "      <th>David</th>\n",
       "      <td>1</td>\n",
       "      <td>2</td>\n",
       "    </tr>\n",
       "  </tbody>\n",
       "</table>\n",
       "</div>"
      ],
      "text/plain": [
       "        apples  oranges\n",
       "June         3        0\n",
       "Robert       2        3\n",
       "Lily         0        7\n",
       "David        1        2"
      ]
     },
     "execution_count": 13,
     "metadata": {},
     "output_type": "execute_result"
    }
   ],
   "source": [
    "purchases = pd.DataFrame(data, index=['June', 'Robert', 'Lily', 'David'])\n",
    "purchases\n"
   ]
  },
  {
   "cell_type": "code",
   "execution_count": 14,
   "id": "6087da49",
   "metadata": {},
   "outputs": [
    {
     "data": {
      "text/plain": [
       "apples     3\n",
       "oranges    0\n",
       "Name: June, dtype: int64"
      ]
     },
     "execution_count": 14,
     "metadata": {},
     "output_type": "execute_result"
    }
   ],
   "source": [
    "purchases.loc['June']"
   ]
  }
 ],
 "metadata": {
  "kernelspec": {
   "display_name": "Python 3 (ipykernel)",
   "language": "python",
   "name": "python3"
  },
  "language_info": {
   "codemirror_mode": {
    "name": "ipython",
    "version": 3
   },
   "file_extension": ".py",
   "mimetype": "text/x-python",
   "name": "python",
   "nbconvert_exporter": "python",
   "pygments_lexer": "ipython3",
   "version": "3.10.9"
  }
 },
 "nbformat": 4,
 "nbformat_minor": 5
}
