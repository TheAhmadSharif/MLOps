{
 "cells": [
  {
   "cell_type": "code",
   "execution_count": 2,
   "id": "1adea549",
   "metadata": {},
   "outputs": [],
   "source": [
    "import numpy as np\n",
    "import pandas as pd"
   ]
  },
  {
   "cell_type": "code",
   "execution_count": 35,
   "id": "57aaf8de",
   "metadata": {},
   "outputs": [
    {
     "name": "stdout",
     "output_type": "stream",
     "text": [
      "[[1.         0.92261291]\n",
      " [0.92261291 1.        ]]\n"
     ]
    },
    {
     "data": {
      "text/plain": [
       "1.0"
      ]
     },
     "execution_count": 35,
     "metadata": {},
     "output_type": "execute_result"
    }
   ],
   "source": [
    "p = np.corrcoef([0,3,5],[4,5,8])\n",
    "print(p)\n",
    "p[1][1]"
   ]
  },
  {
   "cell_type": "code",
   "execution_count": null,
   "id": "13c48df5",
   "metadata": {},
   "outputs": [],
   "source": [
    "data = {\n",
    "    \"Physics\": [60,70,65],\n",
    "    \"Math\": [62,75,64],\n",
    "}\n",
    "\n",
    "df = pd.da"
   ]
  }
 ],
 "metadata": {
  "kernelspec": {
   "display_name": "Python 3 (ipykernel)",
   "language": "python",
   "name": "python3"
  },
  "language_info": {
   "codemirror_mode": {
    "name": "ipython",
    "version": 3
   },
   "file_extension": ".py",
   "mimetype": "text/x-python",
   "name": "python",
   "nbconvert_exporter": "python",
   "pygments_lexer": "ipython3",
   "version": "3.9.12"
  }
 },
 "nbformat": 4,
 "nbformat_minor": 5
}
